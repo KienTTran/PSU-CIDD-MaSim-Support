{
 "cells": [
  {
   "cell_type": "markdown",
   "metadata": {},
   "source": [
    "### Example 1 \n",
    "#### The method is an iterative process to repeatedly test different breaks in the dataset to determine which set of breaks has the smallest in-class variance. \n",
    "#### conda install -c conda-forge jenkspy\n"
   ]
  },
  {
   "cell_type": "code",
   "execution_count": 1,
   "metadata": {},
   "outputs": [
    {
     "name": "stdout",
     "output_type": "stream",
     "text": [
      "<class 'numpy.ndarray'>\n",
      "2\n",
      "(40, 46)\n",
      "1840\n",
      "[-9999. -9999. -9999. ... -9999. -9999. -9999.]\n",
      "1\n",
      "(1840,)\n",
      "1840\n",
      "[-9999.0, -9999.0, 87.0, 154.0, 206.0, 268.0, 355.0, 443.0, 542.0, 695.0, 797.0, 912.0, 1005.0, 1121.0, 1325.0, 1439.0, 1590.0, 2125.0, 2258.0, 2430.0, 2646.0, 2826.0, 3053.0, 3179.0, 3311.0, 3573.0, 3788.0, 3944.0, 4035.0, 4329.0, 4513.0, 4686.0, 4868.0, 4973.0, 5133.0, 5259.0, 5376.0, 5517.0, 5702.0, 5814.0, 6000.0, 6156.0, 6395.0, 6617.0, 6719.0, 6859.0, 6957.0, 7109.0, 7222.0, 7307.0, 7527.0, 7685.0, 7778.0, 7949.0, 8126.0, 8239.0, 8352.0, 8499.0, 8615.0, 8802.0, 8955.0, 9084.0, 9194.0, 9321.0, 9403.0, 9488.0, 9581.0, 9712.0, 9774.0, 9956.0, 10071.0, 10174.0, 10248.0, 10363.0, 10443.0, 10506.0, 10657.0, 10818.0, 10897.0, 10999.0, 11103.0, 11241.0, 11356.0, 11446.0, 11519.0, 11641.0, 11743.0, 11916.0, 12070.0, 12211.0, 12334.0, 12453.0, 12561.0, 12650.0, 12808.0, 12939.0, 13058.0, 13187.0, 13296.0, 13391.0, 13527.0, 13684.0, 13834.0, 13987.0, 14144.0, 14282.0, 14388.0, 14505.0, 14589.0, 14717.0, 14826.0, 14900.0, 15008.0, 15087.0, 15239.0, 15382.0, 15577.0, 15806.0, 16020.0, 16155.0, 16268.0, 16389.0, 16518.0, 16738.0, 16940.0, 17113.0, 17361.0, 17653.0, 17768.0, 17945.0, 18085.0, 18220.0, 18319.0, 18524.0, 18705.0, 19009.0, 19221.0, 19375.0, 19554.0, 19748.0, 20027.0, 20144.0, 20289.0, 20797.0, 20939.0, 21045.0, 21234.0, 21504.0, 21753.0, 21934.0, 22139.0, 22366.0, 22560.0, 22795.0, 23103.0, 23336.0, 23494.0, 23781.0, 24009.0, 24277.0, 24639.0, 25108.0, 25495.0, 25691.0, 25839.0, 26015.0, 26386.0, 26549.0, 26912.0, 27358.0, 27629.0, 28153.0, 28328.0, 28636.0, 29303.0, 29492.0, 29674.0, 29820.0, 30182.0, 30390.0, 30579.0, 31491.0, 31741.0, 32009.0, 32390.0, 33002.0, 34529.0, 35231.0, 36133.0, 37019.0, 37425.0, 37914.0, 38186.0, 49378.0, 57331.0, 58336.0, 65194.0, 93070.0, 95262.0, 211246.0, 286928.0]\n",
      "201\n"
     ]
    },
    {
     "data": {
      "image/png": "[encoded data removed]",
      "text/plain": [
       "<Figure size 720x576 with 1 Axes>"
      ]
     },
     "metadata": {
      "needs_background": "light"
     },
     "output_type": "display_data"
    }
   ],
   "source": [
    "# TODO:- Determine the value for nb_class and bins\n",
    "\n",
    "import json\n",
    "import rasterio\n",
    "from jenkspy import jenks\n",
    "import jenkspy\n",
    "import numpy as np\n",
    "import matplotlib.pyplot as plt\n",
    "plt.style.use('seaborn-poster')\n",
    "%matplotlib inline\n",
    "\n",
    "\n",
    "# data should be 1-dimensional array, python list or iterable \n",
    "myArray  = np.loadtxt(\"rwa_population.asc\", skiprows=6)\n",
    "print (type(myArray)) \n",
    "print(myArray.ndim)\n",
    "print(myArray.shape)\n",
    "print(myArray.size)\n",
    "array_1d = myArray.flatten()\n",
    "print (array_1d)\n",
    "print(array_1d.ndim)\n",
    "print(array_1d.shape)\n",
    "print(array_1d.size)\n",
    "\n",
    "# calculate the breaks\n",
    "breaks = jenkspy.jenks_breaks(array_1d, nb_class=200)\n",
    "breaks\n",
    "print (breaks)\n",
    "print(len(breaks))\n",
    "plt.figure(figsize = (10,8))\n",
    "hist = plt.hist(array_1d, bins=10, align='left', color='g')\n",
    "for b in breaks:\n",
    "    plt.vlines(b, ymin=0, ymax = max(hist[0]))"
   ]
  },
  {
   "cell_type": "markdown",
   "metadata": {},
   "source": [
    "### Example 2\n",
    "#### Generating Jenks classification breaks and using those breaks to reclassify raster data"
   ]
  },
  {
   "cell_type": "code",
   "execution_count": 2,
   "metadata": {},
   "outputs": [
    {
     "name": "stdout",
     "output_type": "stream",
     "text": [
      "<class 'numpy.ndarray'>\n",
      "2\n",
      "(40, 46)\n",
      "1840\n",
      "[-9999. -9999. -9999. ... -9999. -9999. -9999.]\n",
      "1\n",
      "(1840,)\n",
      "1840\n"
     ]
    }
   ],
   "source": [
    "import json\n",
    "import rasterio\n",
    "from jenkspy import jenks\n",
    "import jenkspy\n",
    "import numpy as np\n",
    "import matplotlib.pyplot as plt\n",
    "plt.style.use('seaborn-poster')\n",
    "%matplotlib inline\n",
    "\n",
    "\n",
    "# data should be 1-dimensional array, python list or iterable \n",
    "myArray  = np.loadtxt(\"rwa_population.asc\", skiprows=6)\n",
    "print (type(myArray)) \n",
    "print(myArray.ndim)\n",
    "print(myArray.shape)\n",
    "print(myArray.size)\n",
    "array_1d = myArray.flatten()\n",
    "print (array_1d)\n",
    "print(array_1d.ndim)\n",
    "print(array_1d.shape)\n",
    "print(array_1d.size)"
   ]
  },
  {
   "cell_type": "code",
   "execution_count": 3,
   "metadata": {},
   "outputs": [
    {
     "name": "stdout",
     "output_type": "stream",
     "text": [
      "[0, -9999.0, 87.0, 154.0, 206.0, 268.0, 355.0, 443.0, 542.0, 695.0, 797.0, 912.0, 1005.0, 1121.0, 1325.0, 1439.0, 1590.0, 2125.0, 2258.0, 2430.0, 2646.0, 2826.0, 3053.0, 3179.0, 3311.0, 3573.0, 3788.0, 3944.0, 4035.0, 4329.0, 4513.0, 4686.0, 4868.0, 4973.0, 5133.0, 5259.0, 5376.0, 5517.0, 5702.0, 5814.0, 6000.0, 6156.0, 6395.0, 6617.0, 6719.0, 6859.0, 6957.0, 7109.0, 7222.0, 7307.0, 7527.0, 7685.0, 7778.0, 7949.0, 8126.0, 8239.0, 8352.0, 8499.0, 8615.0, 8802.0, 8955.0, 9084.0, 9194.0, 9321.0, 9403.0, 9488.0, 9581.0, 9712.0, 9774.0, 9956.0, 10071.0, 10174.0, 10248.0, 10363.0, 10443.0, 10506.0, 10657.0, 10818.0, 10897.0, 10999.0, 11103.0, 11241.0, 11356.0, 11446.0, 11519.0, 11641.0, 11743.0, 11916.0, 12070.0, 12211.0, 12334.0, 12453.0, 12561.0, 12650.0, 12808.0, 12939.0, 13058.0, 13187.0, 13296.0, 13391.0, 13527.0, 13684.0, 13834.0, 13987.0, 14144.0, 14282.0, 14388.0, 14505.0, 14589.0, 14717.0, 14826.0, 14900.0, 15008.0, 15087.0, 15239.0, 15382.0, 15577.0, 15806.0, 16020.0, 16155.0, 16268.0, 16389.0, 16518.0, 16738.0, 16940.0, 17113.0, 17361.0, 17653.0, 17768.0, 17945.0, 18085.0, 18220.0, 18319.0, 18524.0, 18705.0, 19009.0, 19221.0, 19375.0, 19554.0, 19748.0, 20027.0, 20144.0, 20289.0, 20797.0, 20939.0, 21045.0, 21234.0, 21504.0, 21753.0, 21934.0, 22139.0, 22366.0, 22560.0, 22795.0, 23103.0, 23336.0, 23494.0, 23781.0, 24009.0, 24277.0, 24639.0, 25108.0, 25495.0, 25691.0, 25839.0, 26015.0, 26386.0, 26549.0, 26912.0, 27358.0, 27629.0, 28153.0, 28328.0, 28636.0, 29303.0, 29492.0, 29674.0, 29820.0, 30182.0, 30390.0, 30579.0, 31491.0, 31741.0, 32009.0, 32390.0, 33002.0, 34529.0, 35231.0, 36133.0, 37019.0, 37425.0, 37914.0, 38186.0, 49378.0, 57331.0, 58336.0, 65194.0, 93070.0, 95262.0, 211246.0, 286928.0]\n"
     ]
    }
   ],
   "source": [
    "def getJenksBreaks(dataList, numClass):\n",
    "    dataList.sort()\n",
    "    mat1 = []\n",
    "    for i in range(0,len(dataList)+1):\n",
    "        temp = []\n",
    "        for j in range(0,numClass+1):\n",
    "            temp.append(0)\n",
    "        mat1.append(temp)\n",
    "    mat2 = []\n",
    "    for i in range(0,len(dataList)+1):\n",
    "        temp = []\n",
    "        for j in range(0,numClass+1):\n",
    "            temp.append(0)\n",
    "        mat2.append(temp)\n",
    "    for i in range(1,numClass+1):\n",
    "        mat1[1][i] = 1\n",
    "        mat2[1][i] = 0\n",
    "        for j in range(2,len(dataList)+1):\n",
    "            mat2[j][i] = float('inf')\n",
    "    v = 0.0\n",
    "    for l in range(2,len(dataList)+1):\n",
    "        s1 = 0.0\n",
    "        s2 = 0.0\n",
    "        w = 0.0\n",
    "        for m in range(1,l+1):\n",
    "            i3 = l - m + 1\n",
    "            val = float(dataList[i3-1])\n",
    "            s2 += val * val\n",
    "            s1 += val\n",
    "            w += 1\n",
    "            v = s2 - (s1 * s1) / w\n",
    "            i4 = i3 - 1\n",
    "            if i4 != 0:\n",
    "                for j in range(2,numClass+1):\n",
    "                    if mat2[l][j] >= (v + mat2[i4][j - 1]):\n",
    "                        mat1[l][j] = i3\n",
    "                        mat2[l][j] = v + mat2[i4][j - 1]\n",
    "        mat1[l][1] = 1\n",
    "        mat2[l][1] = v\n",
    "    k = len(dataList)\n",
    "    kclass = []\n",
    "    for i in range(0,numClass+1):\n",
    "        kclass.append(0)\n",
    "    kclass[numClass] = float(dataList[len(dataList) - 1])\n",
    "    countNum = numClass\n",
    "    while countNum >= 2:#print \"rank = \" + str(mat1[k][countNum])\n",
    "        id = int((mat1[k][countNum]) - 2)\n",
    "        #print \"val = \" + str(dataList[id])\n",
    "        kclass[countNum - 1] = dataList[id]\n",
    "        k = int((mat1[k][countNum] - 1))\n",
    "        countNum -= 1\n",
    "    return kclass\n",
    "\n",
    "new = getJenksBreaks(array_1d,200)\n",
    "print (new)\n",
    "\n",
    "### used after running getJenksBreaks()\n",
    "##def classify(value, breaks):\n",
    "##  for i in range(1, len(breaks)):\n",
    "##    if value < breaks[i]:\n",
    "##      return i\n",
    "##  return len(breaks) - 1"
   ]
  },
  {
   "cell_type": "code",
   "execution_count": 4,
   "metadata": {},
   "outputs": [
    {
     "data": {
      "image/png": "[encoded data removed]",
      "text/plain": [
       "<Figure size 720x576 with 1 Axes>"
      ]
     },
     "metadata": {
      "needs_background": "light"
     },
     "output_type": "display_data"
    }
   ],
   "source": [
    "plt.figure(figsize = (10,8))\n",
    "hist = plt.hist(array_1d, bins=10, align='left', color='g')\n",
    "for b in new:\n",
    "    plt.vlines(b, ymin=0, ymax = max(hist[0]))"
   ]
  },
  {
   "cell_type": "code",
   "execution_count": 5,
   "metadata": {},
   "outputs": [],
   "source": [
    "def getGVF( dataList, numClass ):\n",
    "    \"\"\"The Goodness of Variance Fit (GVF) is found by taking the difference between the squared deviations from the array mean (SDAM) and the squared deviations from the class means (SDCM), and dividing by the SDAM\"\"\"\n",
    "    breaks = getJenksBreaks(dataList, numClass)\n",
    "    dataList.sort()\n",
    "    listMean = sum(dataList)/len(dataList)\n",
    "    print (listMean)\n",
    "    SDAM = 0.0\n",
    "    for i in range(0,len(dataList)):\n",
    "        sqDev = (dataList[i] -listMean)**2\n",
    "        SDAM += sqDev\n",
    "    SDCM = 0.0\n",
    "    for i in range(0,numClass):\n",
    "            if breaks[i] == 0:\n",
    "                classStart = 0\n",
    "            else:\n",
    "                classStart = dataList.index(breaks[i])\n",
    "                classStart += 1\n",
    "            classEnd = dataList.index(breaks[i+1])\n",
    "            classList = dataList[classStart:classEnd+1]\n",
    "            classMean = sum(classList)/len(classList)\n",
    "            print (classMean)\n",
    "            preSDCM = 0.0\n",
    "            for j in range(0,len(classList)):\n",
    "                sqDev2 = (classList[j] -classMean)**2\n",
    "                preSDCM += sqDev2\n",
    "            SDCM += preSDCM\n",
    "    return (SDAM -SDCM)/SDAM\n"
   ]
  },
  {
   "cell_type": "code",
   "execution_count": 6,
   "metadata": {},
   "outputs": [
    {
     "name": "stdout",
     "output_type": "stream",
     "text": [
      "18409.885572139305\n",
      "-9999.0\n",
      "0.0\n",
      "-3304.0\n",
      "180.0\n",
      "268.0\n",
      "355.0\n",
      "443.0\n",
      "542.0\n",
      "695.0\n",
      "797.0\n",
      "912.0\n",
      "1005.0\n",
      "1121.0\n",
      "1325.0\n",
      "1439.0\n",
      "1590.0\n",
      "2125.0\n",
      "2258.0\n",
      "2430.0\n",
      "2646.0\n",
      "2826.0\n",
      "3053.0\n",
      "3179.0\n",
      "3311.0\n",
      "3573.0\n",
      "3788.0\n",
      "3944.0\n",
      "4035.0\n",
      "4329.0\n",
      "4513.0\n",
      "4686.0\n",
      "4868.0\n",
      "4973.0\n",
      "5133.0\n",
      "5259.0\n",
      "5376.0\n",
      "5517.0\n",
      "5702.0\n",
      "5814.0\n",
      "6000.0\n",
      "6156.0\n",
      "6395.0\n",
      "6617.0\n",
      "6719.0\n",
      "6859.0\n",
      "6957.0\n",
      "7109.0\n",
      "7222.0\n",
      "7307.0\n",
      "7527.0\n",
      "7685.0\n",
      "7778.0\n",
      "7949.0\n",
      "8126.0\n",
      "8239.0\n",
      "8352.0\n",
      "8499.0\n",
      "8615.0\n",
      "8802.0\n",
      "8955.0\n",
      "9084.0\n",
      "9194.0\n",
      "9321.0\n",
      "9403.0\n",
      "9488.0\n",
      "9581.0\n",
      "9712.0\n",
      "9774.0\n",
      "9956.0\n",
      "10071.0\n",
      "10174.0\n",
      "10248.0\n",
      "10363.0\n",
      "10443.0\n",
      "10506.0\n",
      "10657.0\n",
      "10818.0\n",
      "10897.0\n",
      "10999.0\n",
      "11103.0\n",
      "11241.0\n",
      "11356.0\n",
      "11446.0\n",
      "11519.0\n",
      "11641.0\n",
      "11743.0\n",
      "11916.0\n",
      "12070.0\n",
      "12211.0\n",
      "12334.0\n",
      "12453.0\n",
      "12561.0\n",
      "12650.0\n",
      "12808.0\n",
      "12939.0\n",
      "13058.0\n",
      "13187.0\n",
      "13296.0\n",
      "13391.0\n",
      "13527.0\n",
      "13684.0\n",
      "13834.0\n",
      "13987.0\n",
      "14144.0\n",
      "14282.0\n",
      "14388.0\n",
      "14505.0\n",
      "14589.0\n",
      "14717.0\n",
      "14826.0\n",
      "14900.0\n",
      "15008.0\n",
      "15087.0\n",
      "15239.0\n",
      "15382.0\n",
      "15577.0\n",
      "15806.0\n",
      "16020.0\n",
      "16155.0\n",
      "16268.0\n",
      "16389.0\n",
      "16518.0\n",
      "16738.0\n",
      "16940.0\n",
      "17113.0\n",
      "17361.0\n",
      "17653.0\n",
      "17768.0\n",
      "17945.0\n",
      "18085.0\n",
      "18220.0\n",
      "18319.0\n",
      "18524.0\n",
      "18705.0\n",
      "19009.0\n",
      "19221.0\n",
      "19375.0\n",
      "19554.0\n",
      "19748.0\n",
      "20027.0\n",
      "20144.0\n",
      "20289.0\n",
      "20797.0\n",
      "20939.0\n",
      "21045.0\n",
      "21234.0\n",
      "21504.0\n",
      "21753.0\n",
      "21934.0\n",
      "22139.0\n",
      "22366.0\n",
      "22560.0\n",
      "22795.0\n",
      "23103.0\n",
      "23336.0\n",
      "23494.0\n",
      "23781.0\n",
      "24009.0\n",
      "24277.0\n",
      "24639.0\n",
      "25108.0\n",
      "25495.0\n",
      "25691.0\n",
      "25839.0\n",
      "26015.0\n",
      "26386.0\n",
      "26549.0\n",
      "26912.0\n",
      "27358.0\n",
      "27629.0\n",
      "28153.0\n",
      "28328.0\n",
      "28636.0\n",
      "29303.0\n",
      "29492.0\n",
      "29674.0\n",
      "29820.0\n",
      "30182.0\n",
      "30390.0\n",
      "30579.0\n",
      "31491.0\n",
      "31741.0\n",
      "32009.0\n",
      "32390.0\n",
      "33002.0\n",
      "34529.0\n",
      "35231.0\n",
      "36133.0\n",
      "37019.0\n",
      "37425.0\n",
      "37914.0\n",
      "38186.0\n",
      "49378.0\n",
      "57331.0\n",
      "58336.0\n",
      "65194.0\n",
      "93070.0\n",
      "95262.0\n",
      "211246.0\n",
      "286928.0\n",
      "0.999545743936284\n"
     ]
    }
   ],
   "source": [
    "# new is the value computed from getJenksBreaks\n",
    "newGVF = getGVF(new,200)\n",
    "print (newGVF)"
   ]
  },
  {
   "cell_type": "code",
   "execution_count": 7,
   "metadata": {},
   "outputs": [
    {
     "data": {
      "image/png": "[encoded data removed]",
      "text/plain": [
       "<Figure size 720x576 with 1 Axes>"
      ]
     },
     "metadata": {
      "needs_background": "light"
     },
     "output_type": "display_data"
    }
   ],
   "source": [
    "# TODO:- Check for correctness\n",
    "plt.figure(figsize = (10,8))\n",
    "hist = plt.hist(newGVF, bins=10, align='left', color='g')\n",
    "for b in new:\n",
    "    plt.vlines(b, ymin=0, ymax = max(hist[0]))"
   ]
  },
  {
   "cell_type": "markdown",
   "metadata": {},
   "source": [
    "### Example 3\n",
    "#### Jenks Natural Breaks works by optimizing the Goodness of Variance Fit, a value from 0 to 1 where 0 = No Fit and 1 = Perfect Fit. The key in selecting the number of classes is to find a balance between detecting differences and overfitting your data. To determine the optimum number of classes, use a threshold GVF value you desire and use the number of classes that satisfies this value first.\n",
    "\n",
    "#### The function calculates the Goodness of Variance Fit given an array of values to classify and the number of classes selected"
   ]
  },
  {
   "cell_type": "code",
   "execution_count": 8,
   "metadata": {},
   "outputs": [
    {
     "name": "stdout",
     "output_type": "stream",
     "text": [
      "<class 'numpy.ndarray'>\n",
      "2\n",
      "(40, 46)\n",
      "1840\n",
      "[-9999. -9999. -9999. ... -9999. -9999. -9999.]\n",
      "1\n",
      "(1840,)\n",
      "1840\n"
     ]
    }
   ],
   "source": [
    "import json\n",
    "import rasterio\n",
    "from jenkspy import jenks\n",
    "import jenkspy\n",
    "import numpy as np\n",
    "import matplotlib.pyplot as plt\n",
    "plt.style.use('seaborn-poster')\n",
    "%matplotlib inline\n",
    "\n",
    "\n",
    "# data should be 1-dimensional array, python list or iterable \n",
    "myArray  = np.loadtxt(\"rwa_population.asc\", skiprows=6)\n",
    "print (type(myArray)) \n",
    "print(myArray.ndim)\n",
    "print(myArray.shape)\n",
    "print(myArray.size)\n",
    "array_1d = myArray.flatten()\n",
    "print (array_1d)\n",
    "print(array_1d.ndim)\n",
    "print(array_1d.shape)\n",
    "print(array_1d.size)"
   ]
  },
  {
   "cell_type": "code",
   "execution_count": 9,
   "metadata": {},
   "outputs": [],
   "source": [
    "from jenkspy import jenks\n",
    "import numpy as np\n",
    "\n",
    "def goodness_of_variance_fit(array, classes):\n",
    "    # get the break points\n",
    "    classes = jenkspy.jenks_breaks(array, classes)\n",
    "\n",
    "    # do the actual classification\n",
    "    classified = np.array([classify(i, classes) for i in array])\n",
    "\n",
    "    # max value of zones\n",
    "    maxz = max(classified)\n",
    "\n",
    "    # nested list of zone indices\n",
    "    zone_indices = [[idx for idx, val in enumerate(classified) if zone + 1 == val] for zone in range(maxz)]\n",
    "\n",
    "    # sum of squared deviations from array mean\n",
    "    sdam = np.sum((array - array.mean()) ** 2)\n",
    "\n",
    "    # sorted polygon stats\n",
    "    array_sort = [np.array([array[index] for index in zone]) for zone in zone_indices]\n",
    "\n",
    "    # sum of squared deviations of class means\n",
    "    sdcm = sum([np.sum((classified - classified.mean()) ** 2) for classified in array_sort])\n",
    "\n",
    "    # goodness of variance fit\n",
    "    gvf = (sdam - sdcm) / sdam\n",
    "\n",
    "    return gvf\n",
    "\n",
    "def classify(value, breaks):\n",
    "    for i in range(1, len(breaks)):\n",
    "        if value < breaks[i]:\n",
    "            return i\n",
    "    return len(breaks) - 1\n"
   ]
  },
  {
   "cell_type": "code",
   "execution_count": 10,
   "metadata": {},
   "outputs": [
    {
     "name": "stdout",
     "output_type": "stream",
     "text": [
      "0.9914026983327585\n"
     ]
    },
    {
     "name": "stderr",
     "output_type": "stream",
     "text": [
      "C:\\Users\\pua66\\Anaconda3\\lib\\site-packages\\ipykernel_launcher.py:24: RuntimeWarning: Mean of empty slice.\n",
      "C:\\Users\\pua66\\Anaconda3\\lib\\site-packages\\numpy\\core\\_methods.py:188: RuntimeWarning: invalid value encountered in double_scalars\n",
      "  ret = ret.dtype.type(ret / rcount)\n"
     ]
    }
   ],
   "source": [
    "GVF = goodness_of_variance_fit(array_1d,200)\n",
    "print (GVF)"
   ]
  },
  {
   "cell_type": "code",
   "execution_count": 11,
   "metadata": {},
   "outputs": [
    {
     "data": {
      "image/png": "[encoded data removed]",
      "text/plain": [
       "<Figure size 720x576 with 1 Axes>"
      ]
     },
     "metadata": {
      "needs_background": "light"
     },
     "output_type": "display_data"
    }
   ],
   "source": [
    "plt.figure(figsize = (10,8))\n",
    "hist = plt.hist(GVF, bins=10, align='left', color='g')\n",
    "for b in array_1d:\n",
    "    plt.vlines(b, ymin=0, ymax = max(hist[0]))"
   ]
  },
  {
   "cell_type": "markdown",
   "metadata": {},
   "source": [
    "#### Considering the GVF should be at least .8, then we can increment the number of classes until the GVF is satisfied"
   ]
  },
  {
   "cell_type": "code",
   "execution_count": 12,
   "metadata": {},
   "outputs": [
    {
     "name": "stdout",
     "output_type": "stream",
     "text": [
      "0.9914026983327585\n"
     ]
    },
    {
     "name": "stderr",
     "output_type": "stream",
     "text": [
      "C:\\Users\\pua66\\Anaconda3\\lib\\site-packages\\ipykernel_launcher.py:24: RuntimeWarning: Mean of empty slice.\n"
     ]
    }
   ],
   "source": [
    "# TODO:- Decide value for GVF, nclasses, while loop\n",
    "gvf = 0.0\n",
    "nclasses = 200\n",
    "while gvf < 0.8:\n",
    "    gvf = goodness_of_variance_fit(array_1d, nclasses)\n",
    "    nclasses += 1\n",
    "print (gvf)"
   ]
  },
  {
   "cell_type": "code",
   "execution_count": null,
   "metadata": {},
   "outputs": [],
   "source": []
  },
  {
   "cell_type": "code",
   "execution_count": null,
   "metadata": {},
   "outputs": [],
   "source": []
  },
  {
   "cell_type": "code",
   "execution_count": null,
   "metadata": {},
   "outputs": [],
   "source": []
  }
 ],
 "metadata": {
  "kernelspec": {
   "display_name": "Python 3",
   "language": "python",
   "name": "python3"
  },
  "language_info": {
   "codemirror_mode": {
    "name": "ipython",
    "version": 3
   },
   "file_extension": ".py",
   "mimetype": "text/x-python",
   "name": "python",
   "nbconvert_exporter": "python",
   "pygments_lexer": "ipython3",
   "version": "3.7.9"
  }
 },
 "nbformat": 4,
 "nbformat_minor": 4
}
